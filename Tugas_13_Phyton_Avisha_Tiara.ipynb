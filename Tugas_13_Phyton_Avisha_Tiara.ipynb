{
  "nbformat": 4,
  "nbformat_minor": 0,
  "metadata": {
    "colab": {
      "name": "Tugas 13 - Phyton - Avisha Tiara",
      "provenance": [],
      "authorship_tag": "ABX9TyMOiMGAHZRhGDLpHepfSC2m",
      "include_colab_link": true
    },
    "kernelspec": {
      "name": "python3",
      "display_name": "Python 3"
    }
  },
  "cells": [
    {
      "cell_type": "markdown",
      "metadata": {
        "id": "view-in-github",
        "colab_type": "text"
      },
      "source": [
        "<a href=\"https://colab.research.google.com/github/avishatr/Tugas-13-Phyton---Avisha-Tiara---1101208139/blob/main/Tugas_13_Phyton_Avisha_Tiara.ipynb\" target=\"_parent\"><img src=\"https://colab.research.google.com/assets/colab-badge.svg\" alt=\"Open In Colab\"/></a>"
      ]
    },
    {
      "cell_type": "markdown",
      "metadata": {
        "id": "DxzK_h8Qpelv"
      },
      "source": [
        "Tugas 13 - Avisha Tiara Rizky - 1101208139 - TTX-44-01"
      ]
    },
    {
      "cell_type": "code",
      "metadata": {
        "id": "PPgaV3dKonnT"
      },
      "source": [
        "import numpy as np\r\n",
        "import matplotlib.pyplot as plt"
      ],
      "execution_count": 1,
      "outputs": []
    },
    {
      "cell_type": "code",
      "metadata": {
        "id": "ndJZb8WgpQj6",
        "colab": {
          "base_uri": "https://localhost:8080/"
        },
        "outputId": "43ca390c-ddd5-4339-a5d1-82d4d0f126e2"
      },
      "source": [
        "np.zeros(4)"
      ],
      "execution_count": 2,
      "outputs": [
        {
          "output_type": "execute_result",
          "data": {
            "text/plain": [
              "array([0., 0., 0., 0.])"
            ]
          },
          "metadata": {
            "tags": []
          },
          "execution_count": 2
        }
      ]
    },
    {
      "cell_type": "code",
      "metadata": {
        "id": "kFnRDWxQpVDT",
        "colab": {
          "base_uri": "https://localhost:8080/"
        },
        "outputId": "dcb4d972-6509-4bc9-a24f-e93ef0cfd638"
      },
      "source": [
        "np.ones(3)"
      ],
      "execution_count": 3,
      "outputs": [
        {
          "output_type": "execute_result",
          "data": {
            "text/plain": [
              "array([1., 1., 1.])"
            ]
          },
          "metadata": {
            "tags": []
          },
          "execution_count": 3
        }
      ]
    },
    {
      "cell_type": "markdown",
      "metadata": {
        "id": "PKGXGWRgpv5W"
      },
      "source": [
        "(**Baris**, **Kolom**)"
      ]
    },
    {
      "cell_type": "code",
      "metadata": {
        "id": "vgpp48CAp4MW",
        "colab": {
          "base_uri": "https://localhost:8080/"
        },
        "outputId": "1ceb5d57-3f2d-4bdb-fae8-b1010bf2b32d"
      },
      "source": [
        "np.zeros((3,4))"
      ],
      "execution_count": 4,
      "outputs": [
        {
          "output_type": "execute_result",
          "data": {
            "text/plain": [
              "array([[0., 0., 0., 0.],\n",
              "       [0., 0., 0., 0.],\n",
              "       [0., 0., 0., 0.]])"
            ]
          },
          "metadata": {
            "tags": []
          },
          "execution_count": 4
        }
      ]
    },
    {
      "cell_type": "code",
      "metadata": {
        "id": "a1KlQssvp-sF",
        "colab": {
          "base_uri": "https://localhost:8080/"
        },
        "outputId": "ddc85b67-860f-489a-9690-16df6b1696f3"
      },
      "source": [
        "np.ones((5,2))"
      ],
      "execution_count": 5,
      "outputs": [
        {
          "output_type": "execute_result",
          "data": {
            "text/plain": [
              "array([[1., 1.],\n",
              "       [1., 1.],\n",
              "       [1., 1.],\n",
              "       [1., 1.],\n",
              "       [1., 1.]])"
            ]
          },
          "metadata": {
            "tags": []
          },
          "execution_count": 5
        }
      ]
    },
    {
      "cell_type": "code",
      "metadata": {
        "id": "1LVZdBUWqC8n",
        "colab": {
          "base_uri": "https://localhost:8080/"
        },
        "outputId": "2b3e5ab2-0e22-4214-88bc-ec0694c4c913"
      },
      "source": [
        "np.arange(10)"
      ],
      "execution_count": 6,
      "outputs": [
        {
          "output_type": "execute_result",
          "data": {
            "text/plain": [
              "array([0, 1, 2, 3, 4, 5, 6, 7, 8, 9])"
            ]
          },
          "metadata": {
            "tags": []
          },
          "execution_count": 6
        }
      ]
    },
    {
      "cell_type": "code",
      "metadata": {
        "id": "fXduvmhkqG79",
        "colab": {
          "base_uri": "https://localhost:8080/"
        },
        "outputId": "2a3fb28e-62ad-4651-fe87-175e00f7ecf0"
      },
      "source": [
        "np.arange(2,10)"
      ],
      "execution_count": 7,
      "outputs": [
        {
          "output_type": "execute_result",
          "data": {
            "text/plain": [
              "array([2, 3, 4, 5, 6, 7, 8, 9])"
            ]
          },
          "metadata": {
            "tags": []
          },
          "execution_count": 7
        }
      ]
    },
    {
      "cell_type": "code",
      "metadata": {
        "id": "XEpZVHQAqND6",
        "colab": {
          "base_uri": "https://localhost:8080/"
        },
        "outputId": "5caacb2d-cbe8-471b-a107-28ef7198fc37"
      },
      "source": [
        "np.arange(3,47,4)"
      ],
      "execution_count": 8,
      "outputs": [
        {
          "output_type": "execute_result",
          "data": {
            "text/plain": [
              "array([ 3,  7, 11, 15, 19, 23, 27, 31, 35, 39, 43])"
            ]
          },
          "metadata": {
            "tags": []
          },
          "execution_count": 8
        }
      ]
    },
    {
      "cell_type": "code",
      "metadata": {
        "id": "MjWZ4HY0qQi7"
      },
      "source": [
        ""
      ],
      "execution_count": 8,
      "outputs": []
    },
    {
      "cell_type": "markdown",
      "metadata": {
        "id": "I8Hi0jSOqT88"
      },
      "source": [
        "Arange = (Awal, Akhir, Delta)"
      ]
    },
    {
      "cell_type": "code",
      "metadata": {
        "id": "M2lBcZCvqmtT",
        "colab": {
          "base_uri": "https://localhost:8080/"
        },
        "outputId": "f5257bb6-7eb5-4687-91d4-6300e0835075"
      },
      "source": [
        "np.arange(4,5,0.1)"
      ],
      "execution_count": 9,
      "outputs": [
        {
          "output_type": "execute_result",
          "data": {
            "text/plain": [
              "array([4. , 4.1, 4.2, 4.3, 4.4, 4.5, 4.6, 4.7, 4.8, 4.9])"
            ]
          },
          "metadata": {
            "tags": []
          },
          "execution_count": 9
        }
      ]
    },
    {
      "cell_type": "code",
      "metadata": {
        "id": "Ac_5i_Gyqqso",
        "colab": {
          "base_uri": "https://localhost:8080/"
        },
        "outputId": "b1b92560-a9a7-4442-ee5e-fcbf5889bc1e"
      },
      "source": [
        "np.arange(2,-4,-0.5)"
      ],
      "execution_count": 10,
      "outputs": [
        {
          "output_type": "execute_result",
          "data": {
            "text/plain": [
              "array([ 2. ,  1.5,  1. ,  0.5,  0. , -0.5, -1. , -1.5, -2. , -2.5, -3. ,\n",
              "       -3.5])"
            ]
          },
          "metadata": {
            "tags": []
          },
          "execution_count": 10
        }
      ]
    },
    {
      "cell_type": "code",
      "metadata": {
        "id": "eVKrg4PLqwfj",
        "colab": {
          "base_uri": "https://localhost:8080/"
        },
        "outputId": "6381d383-b6ab-4745-af68-6a6ca99fe522"
      },
      "source": [
        "np.linspace(2,10,4)"
      ],
      "execution_count": 11,
      "outputs": [
        {
          "output_type": "execute_result",
          "data": {
            "text/plain": [
              "array([ 2.        ,  4.66666667,  7.33333333, 10.        ])"
            ]
          },
          "metadata": {
            "tags": []
          },
          "execution_count": 11
        }
      ]
    },
    {
      "cell_type": "code",
      "metadata": {
        "id": "T1K1Fev7q07z",
        "colab": {
          "base_uri": "https://localhost:8080/"
        },
        "outputId": "de7fb89c-cb77-49ea-d82b-2524363f16e7"
      },
      "source": [
        "np.linspace(2,-4,4)"
      ],
      "execution_count": 12,
      "outputs": [
        {
          "output_type": "execute_result",
          "data": {
            "text/plain": [
              "array([ 2.,  0., -2., -4.])"
            ]
          },
          "metadata": {
            "tags": []
          },
          "execution_count": 12
        }
      ]
    },
    {
      "cell_type": "code",
      "metadata": {
        "id": "bpJ43a6Gq6Em"
      },
      "source": [
        "e=np.arange(0,20,2)"
      ],
      "execution_count": 13,
      "outputs": []
    },
    {
      "cell_type": "code",
      "metadata": {
        "id": "A5VQlIifrDQV",
        "colab": {
          "base_uri": "https://localhost:8080/"
        },
        "outputId": "db9f7a2c-da08-481a-d058-56e60142c5ee"
      },
      "source": [
        "len(e)"
      ],
      "execution_count": 14,
      "outputs": [
        {
          "output_type": "execute_result",
          "data": {
            "text/plain": [
              "10"
            ]
          },
          "metadata": {
            "tags": []
          },
          "execution_count": 14
        }
      ]
    },
    {
      "cell_type": "code",
      "metadata": {
        "id": "usq88CJPrI8Y",
        "colab": {
          "base_uri": "https://localhost:8080/"
        },
        "outputId": "0ee579d9-fcaf-4554-b379-523bdb80f193"
      },
      "source": [
        "e.reshape(5,2)"
      ],
      "execution_count": 15,
      "outputs": [
        {
          "output_type": "execute_result",
          "data": {
            "text/plain": [
              "array([[ 0,  2],\n",
              "       [ 4,  6],\n",
              "       [ 8, 10],\n",
              "       [12, 14],\n",
              "       [16, 18]])"
            ]
          },
          "metadata": {
            "tags": []
          },
          "execution_count": 15
        }
      ]
    },
    {
      "cell_type": "code",
      "metadata": {
        "id": "YcJFSBP1rKLj",
        "colab": {
          "base_uri": "https://localhost:8080/"
        },
        "outputId": "7f5b002f-8387-4425-8dba-1f91d78f3cd2"
      },
      "source": [
        "e.reshape(2,5)"
      ],
      "execution_count": 16,
      "outputs": [
        {
          "output_type": "execute_result",
          "data": {
            "text/plain": [
              "array([[ 0,  2,  4,  6,  8],\n",
              "       [10, 12, 14, 16, 18]])"
            ]
          },
          "metadata": {
            "tags": []
          },
          "execution_count": 16
        }
      ]
    },
    {
      "cell_type": "code",
      "metadata": {
        "id": "OUwg5kskrNig",
        "colab": {
          "base_uri": "https://localhost:8080/"
        },
        "outputId": "6e150974-eada-4ca2-9e81-adc22c36b640"
      },
      "source": [
        "print(e)"
      ],
      "execution_count": 17,
      "outputs": [
        {
          "output_type": "stream",
          "text": [
            "[ 0  2  4  6  8 10 12 14 16 18]\n"
          ],
          "name": "stdout"
        }
      ]
    },
    {
      "cell_type": "code",
      "metadata": {
        "id": "_GxaZSeprRzM"
      },
      "source": [
        "f=e.reshape(5,2)"
      ],
      "execution_count": 18,
      "outputs": []
    },
    {
      "cell_type": "code",
      "metadata": {
        "id": "bVHumWkRrV6U",
        "colab": {
          "base_uri": "https://localhost:8080/"
        },
        "outputId": "2df37f91-6447-4f60-e27a-111140d50b47"
      },
      "source": [
        "print(f)"
      ],
      "execution_count": 19,
      "outputs": [
        {
          "output_type": "stream",
          "text": [
            "[[ 0  2]\n",
            " [ 4  6]\n",
            " [ 8 10]\n",
            " [12 14]\n",
            " [16 18]]\n"
          ],
          "name": "stdout"
        }
      ]
    },
    {
      "cell_type": "code",
      "metadata": {
        "id": "FFVBVnsFrbYI",
        "colab": {
          "base_uri": "https://localhost:8080/"
        },
        "outputId": "67ae285c-b9c3-47fe-f29b-c883570ed8dd"
      },
      "source": [
        "np.random.random((3,4))"
      ],
      "execution_count": 20,
      "outputs": [
        {
          "output_type": "execute_result",
          "data": {
            "text/plain": [
              "array([[0.36928153, 0.84994649, 0.78827754, 0.10587932],\n",
              "       [0.8420193 , 0.84514833, 0.25407784, 0.40563005],\n",
              "       [0.34705771, 0.02013459, 0.98958464, 0.45666846]])"
            ]
          },
          "metadata": {
            "tags": []
          },
          "execution_count": 20
        }
      ]
    },
    {
      "cell_type": "code",
      "metadata": {
        "id": "VqhA8F_9riP5",
        "colab": {
          "base_uri": "https://localhost:8080/"
        },
        "outputId": "6e211890-dcc0-4f74-9b04-be3ab2502b82"
      },
      "source": [
        "np.random.randint(1,20,10)"
      ],
      "execution_count": 21,
      "outputs": [
        {
          "output_type": "execute_result",
          "data": {
            "text/plain": [
              "array([ 8, 14, 15, 16,  5,  2, 16,  5, 12, 18])"
            ]
          },
          "metadata": {
            "tags": []
          },
          "execution_count": 21
        }
      ]
    },
    {
      "cell_type": "code",
      "metadata": {
        "id": "aivqbsQGroZb",
        "colab": {
          "base_uri": "https://localhost:8080/"
        },
        "outputId": "8c762eca-ab2f-4fb8-ce76-73e3d323701c"
      },
      "source": [
        "np.random.randn(3)"
      ],
      "execution_count": 22,
      "outputs": [
        {
          "output_type": "execute_result",
          "data": {
            "text/plain": [
              "array([1.97682044, 0.90485253, 0.13419289])"
            ]
          },
          "metadata": {
            "tags": []
          },
          "execution_count": 22
        }
      ]
    },
    {
      "cell_type": "markdown",
      "metadata": {
        "id": "PWRvjmiWfO11"
      },
      "source": [
        "GRAFIK FREKUENSI 1800MHZ (URBAN, OPEN, dan SUB URBAN)"
      ]
    },
    {
      "cell_type": "code",
      "metadata": {
        "id": "zOu-Uu4VfkcU"
      },
      "source": [
        "def cos(frek,tipe,ht,hr,d):\r\n",
        "    if frek in range(150,1501):\r\n",
        "        Ca=69.55\r\n",
        "        Cb=26.16\r\n",
        "    elif frek in range(1501,2001):\r\n",
        "        Ca=46.3\r\n",
        "        Cb=33.9\r\n",
        "    \r\n",
        "    if tipe=='urban' :\r\n",
        "        Cm=0\r\n",
        "    elif tipe=='suburban' :\r\n",
        "        Cm= -2*((np.log10((frek/28)**2))-5.4)\r\n",
        "    elif tipe=='open' :\r\n",
        "        Cm= -4.78*(np.log10(frek))+18.33*(np.log10(frek))-40.94\r\n",
        "    else :\r\n",
        "        Cm='tipe salah'\r\n",
        "    \r\n",
        "    ahr = (1.1*np.log10(frek)-0.7)*hr-(1.56*np.log10(frek)-1.8)\r\n",
        "    Lp = Ca+(Cb*np.log10(frek))-(13.83*np.log(ht))-ahr+((44.9-6.55*np.log10(ht))*np.log10(d))-Cm\r\n",
        "    \r\n",
        "    return Lp"
      ],
      "execution_count": 23,
      "outputs": []
    },
    {
      "cell_type": "code",
      "metadata": {
        "id": "t54KYD94f0QH"
      },
      "source": [
        "f=1800 #MHz\r\n",
        "loc1='urban'\r\n",
        "loc2='open'\r\n",
        "loc3='suburban'\r\n",
        "tower=80 #m\r\n",
        "user=1.5 #m\r\n",
        "dmin=200 #m\r\n",
        "dmax=700 #m\r\n",
        "N=200 #titik\r\n",
        "d=np.random.randint(dmin,dmax,N)"
      ],
      "execution_count": 24,
      "outputs": []
    },
    {
      "cell_type": "code",
      "metadata": {
        "id": "A9Hz335BgBHY",
        "colab": {
          "base_uri": "https://localhost:8080/"
        },
        "outputId": "409e3337-5619-43d2-c3f7-418fa4b2ca52"
      },
      "source": [
        "print(d)"
      ],
      "execution_count": 25,
      "outputs": [
        {
          "output_type": "stream",
          "text": [
            "[213 376 293 245 231 499 233 277 416 429 316 362 414 515 206 317 689 603\n",
            " 403 564 432 605 639 472 572 666 687 422 534 275 590 512 251 348 421 219\n",
            " 482 274 590 658 230 569 412 259 640 254 267 468 556 214 629 248 307 424\n",
            " 557 665 288 549 699 533 386 280 263 604 361 299 611 542 537 593 605 414\n",
            " 662 363 295 424 520 563 531 533 537 489 596 278 582 650 649 443 646 625\n",
            " 213 519 509 439 244 424 595 247 696 218 372 496 461 647 435 666 522 391\n",
            " 224 453 421 269 373 378 295 216 322 688 433 234 556 408 517 648 437 372\n",
            " 628 372 412 377 542 392 643 266 666 690 281 228 538 588 256 348 355 436\n",
            " 236 648 421 302 234 273 322 654 463 370 695 379 396 633 317 626 497 281\n",
            " 486 616 536 375 226 239 688 420 557 671 273 627 299 467 482 646 438 412\n",
            " 312 479 464 539 682 491 375 375 523 323 354 540 584 305 469 423 202 253\n",
            " 289 246]\n"
          ],
          "name": "stdout"
        }
      ]
    },
    {
      "cell_type": "code",
      "metadata": {
        "id": "gBLou6p6gDen"
      },
      "source": [
        "LpUrban=cos(f,loc1,tower,user,d)\r\n",
        "LpOpen=cos(f,loc2,tower,user,d)\r\n",
        "LpSuburban=cos(f,loc3,tower,user,d)"
      ],
      "execution_count": 26,
      "outputs": []
    },
    {
      "cell_type": "code",
      "metadata": {
        "id": "yCYx2MofgISp",
        "colab": {
          "base_uri": "https://localhost:8080/"
        },
        "outputId": "8645cf5a-4dd4-40a9-e3b2-c084653a09b4"
      },
      "source": [
        "print(LpUrban, LpOpen, LpSuburban)"
      ],
      "execution_count": 27,
      "outputs": [
        {
          "output_type": "stream",
          "text": [
            "[170.52777003 178.53293625 175.0195957  172.49936498 171.67052372\n",
            " 182.51958027 171.79195756 174.22858158 179.95700017 180.39045706\n",
            " 176.0840871  177.99843493 179.88911456 182.96415327 170.05706436\n",
            " 176.12859342 187.06429599 185.18626141 179.50978046 184.24441408\n",
            " 180.48861939 185.23290462 186.0030837  181.73600358 184.44281507\n",
            " 186.58604568 187.0233476  180.15871585 183.4744827  174.12650695\n",
            " 184.87925665 182.88185758 172.84017768 177.44284933 180.12529653\n",
            " 170.91907957 182.03132336 174.07519091 184.87925665 186.41581717\n",
            " 171.60941197 184.36874179 179.8209002  173.28213511 186.02511066\n",
            " 173.00754089 173.71064686 181.61611999 184.04317869 170.59374784\n",
            " 185.78089869 172.67080204 175.67707279 180.22531757 184.0684909\n",
            " 186.56487928 174.77714157 183.86470814 187.26727123 183.44807925\n",
            " 178.902675   174.3803199  173.49802037 185.20960232 177.95946883\n",
            " 175.30513732 185.37191467 183.68394734 183.5533974  184.95070011\n",
            " 185.23290462 179.88911456 186.50118857 178.03729354 175.11542082\n",
            " 180.22531757 183.10025324 184.21941631 183.3951234  183.44807925\n",
            " 183.5533974  182.23442403 185.02178304 174.27934286 184.68695008\n",
            " 186.24350631 186.22181849 180.84280631 186.15655395 185.69103403\n",
            " 170.52777003 183.07313824 182.79907828 180.71503911 172.44175248\n",
            " 180.22531757 184.99812856 172.61388787 187.20668516 170.85461155\n",
            " 178.38227987 182.43463788 181.40383683 186.17834241 180.5861024\n",
            " 186.58604568 183.15432715 179.08396756 171.23706683 181.15724431\n",
            " 180.12529653 173.81576852 178.42009529 178.60766448 175.11542082\n",
            " 170.72478356 176.34903982 187.04383667 180.52118874 171.85228415\n",
            " 184.04317869 179.6834724  183.01875116 186.20009722 180.65071828\n",
            " 178.38227987 185.75848621 178.38227987 179.8209002  178.57034992\n",
            " 183.68394734 179.11994775 186.09098562 173.65779037 186.58604568\n",
            " 187.08472564 174.43053827 171.48638728 183.57960436 184.83142558\n",
            " 173.11802175 177.44284933 177.72338111 180.61844739 171.97216775\n",
            " 186.20009722 180.12529653 175.44576648 171.85228415 174.02368724\n",
            " 176.34903982 186.32992522 181.4648163  178.30634309 187.18643176\n",
            " 178.64488045 179.26295647 185.87019368 176.12859342 185.713554\n",
            " 182.46300896 174.43053827 182.14773921 185.48671757 183.52714159\n",
            " 178.49542295 171.36227866 172.15010153 187.04383667 180.09179773\n",
            " 184.0684909  186.69140322 174.02368724 185.73603802 175.30513732\n",
            " 181.58598899 182.03132336 186.15655395 180.68291541 179.8209002\n",
            " 175.90464216 181.94337571 181.49520734 183.60576266 186.92045278\n",
            " 182.29191895 178.49542295 178.49542295 183.18128647 176.39271811\n",
            " 177.68364557 183.63187246 184.73527342 175.58500555 181.64618668\n",
            " 180.19205607 169.78085477 172.9519738  174.82596739 172.55674281] [167.35882758 175.36399381 171.85065326 169.33042254 168.50158128\n",
            " 179.35063783 168.62301511 171.05963914 176.78805773 177.22151462\n",
            " 172.91514466 174.82949249 176.72017211 179.79521082 166.88812191\n",
            " 172.95965098 183.89535355 182.01731897 176.34083802 181.07547164\n",
            " 177.31967695 182.06396218 182.83414125 178.56706114 181.27387263\n",
            " 183.41710324 183.85440515 176.9897734  180.30554025 170.95756451\n",
            " 181.71031421 179.71291514 169.67123523 174.27390688 176.95635408\n",
            " 167.75013712 178.86238092 170.90624847 181.71031421 183.24687473\n",
            " 168.44046952 181.19979934 176.65195775 170.11319266 182.85616821\n",
            " 169.83859844 170.54170442 178.44717754 180.87423625 167.4248054\n",
            " 182.61195624 169.5018596  172.50813035 177.05637512 180.89954845\n",
            " 183.39593684 171.60819912 180.69576569 184.09832878 180.2791368\n",
            " 175.73373256 171.21137746 170.32907792 182.04065988 174.79052638\n",
            " 172.13619488 182.20297223 180.51500489 180.38445496 181.78175766\n",
            " 182.06396218 176.72017211 183.33224613 174.8683511  171.94647837\n",
            " 177.05637512 179.9313108  181.05047387 180.22618096 180.2791368\n",
            " 180.38445496 179.06548158 181.8528406  171.11040041 181.51800764\n",
            " 183.07456387 183.05287604 177.67386387 182.98761151 182.52209158\n",
            " 167.35882758 179.9041958  179.63013584 177.54609666 169.27281004\n",
            " 177.05637512 181.82918612 169.44494543 184.03774272 167.6856691\n",
            " 175.21333742 179.26569543 178.23489438 183.00939997 177.41715995\n",
            " 183.41710324 179.98538471 175.91502512 168.06812439 177.98830187\n",
            " 176.95635408 170.64682608 175.25115285 175.43872203 171.94647837\n",
            " 167.55584111 173.18009738 183.87489423 177.3522463  168.68334171\n",
            " 180.87423625 176.51452995 179.84980871 183.03115478 177.48177583\n",
            " 175.21333742 182.58954377 175.21333742 176.65195775 175.40140748\n",
            " 180.51500489 175.95100531 182.92204318 170.48884793 183.41710324\n",
            " 183.91578319 171.26159583 168.31744483 180.41066192 181.66248314\n",
            " 169.9490793  174.27390688 174.55443866 177.44950494 168.8032253\n",
            " 183.03115478 176.95635408 172.27682404 168.68334171 170.8547448\n",
            " 173.18009738 183.16098277 178.29587386 175.13740065 184.01748932\n",
            " 175.47593801 176.09401402 182.70125123 172.95965098 182.54461155\n",
            " 179.29406652 171.26159583 178.97879677 182.31777513 180.35819915\n",
            " 175.3264805  168.19333621 168.98115909 183.87489423 176.92285529\n",
            " 180.89954845 183.52246078 170.8547448  182.56709558 172.13619488\n",
            " 178.41704654 178.86238092 182.98761151 177.51397296 176.65195775\n",
            " 172.73569972 178.77443326 178.32626489 180.43682021 183.75151034\n",
            " 179.12297651 175.3264805  175.3264805  180.01234402 173.22377567\n",
            " 174.51470313 180.46293002 181.56633097 172.41606311 178.47724423\n",
            " 177.02311363 166.61191233 169.78303136 171.65702495 169.38780037] [166.96022792 174.96539415 171.4520536  168.93182288 168.10298162\n",
            " 178.95203817 168.22441545 170.66103948 176.38945806 176.82291496\n",
            " 172.516545   174.43089283 176.32157245 179.39661116 166.48952225\n",
            " 172.56105131 183.49675389 181.61871931 175.94223836 180.67687198\n",
            " 176.92107729 181.66536252 182.43554159 178.16846148 180.87527297\n",
            " 183.01850358 183.45580549 176.59117374 179.90694059 170.55896485\n",
            " 181.31171455 179.31431548 169.27263557 173.87530722 176.55775442\n",
            " 167.35153746 178.46378126 170.50764881 181.31171455 182.84827507\n",
            " 168.04186986 180.80119968 176.25335809 169.714593   182.45756855\n",
            " 169.43999878 170.14310475 178.04857788 180.47563659 167.02620574\n",
            " 182.21335658 169.10325994 172.10953069 176.65777546 180.50094879\n",
            " 182.99733718 171.20959946 180.29716603 183.69972912 179.88053714\n",
            " 175.33513289 170.8127778  169.93047826 181.64206022 174.39192672\n",
            " 171.73759522 181.80437257 180.11640523 179.9858553  181.383158\n",
            " 181.66536252 176.32157245 182.93364647 174.46975144 171.54787871\n",
            " 176.65777546 179.53271113 180.65187421 179.8275813  179.88053714\n",
            " 179.9858553  178.66688192 181.45424093 170.71180075 181.11940798\n",
            " 182.6759642  182.65427638 177.27526421 182.58901184 182.12349192\n",
            " 166.96022792 179.50559614 179.23153618 177.147497   168.87421038\n",
            " 176.65777546 181.43058646 169.04634577 183.63914306 167.28706944\n",
            " 174.81473776 178.86709577 177.83629472 182.61080031 177.01856029\n",
            " 183.01850358 179.58678505 175.51642546 167.66952473 177.58970221\n",
            " 176.55775442 170.24822642 174.85255319 175.04012237 171.54787871\n",
            " 167.15724145 172.78149772 183.47629457 176.95364664 168.28474204\n",
            " 180.47563659 176.11593029 179.45120905 182.63255512 177.08317617\n",
            " 174.81473776 182.19094411 174.81473776 176.25335809 175.00280781\n",
            " 180.11640523 175.55240565 182.52344351 170.09024827 183.01850358\n",
            " 183.51718353 170.86299616 167.91884517 180.01206226 181.26388348\n",
            " 169.55047964 173.87530722 174.155839   177.05090528 168.40462564\n",
            " 182.63255512 176.55775442 171.87822438 168.28474204 170.45614514\n",
            " 172.78149772 182.76238311 177.8972742  174.73880099 183.61888966\n",
            " 175.07733835 175.69541436 182.30265157 172.56105131 182.14601189\n",
            " 178.89546686 170.86299616 178.58019711 181.91917547 179.95959949\n",
            " 174.92788084 167.79473655 168.58255943 183.47629457 176.52425562\n",
            " 180.50094879 183.12386112 170.45614514 182.16849591 171.73759522\n",
            " 178.01844688 178.46378126 182.58901184 177.1153733  176.25335809\n",
            " 172.33710005 178.3758336  177.92766523 180.03822055 183.35291068\n",
            " 178.72437685 174.92788084 174.92788084 179.61374436 172.82517601\n",
            " 174.11610347 180.06433036 181.16773131 172.01746345 178.07864457\n",
            " 176.62451397 166.21331267 169.3844317  171.25842529 168.98920071]\n"
          ],
          "name": "stdout"
        }
      ]
    },
    {
      "cell_type": "code",
      "metadata": {
        "id": "aDZjIGVSgMbn",
        "colab": {
          "base_uri": "https://localhost:8080/",
          "height": 279
        },
        "outputId": "f5230817-693e-462f-a5a8-5b9f37b02a69"
      },
      "source": [
        "plt.figure()\r\n",
        "plt.plot(d,LpUrban)\r\n",
        "plt.plot(d,LpOpen)\r\n",
        "plt.plot(d,LpSuburban)\r\n",
        "plt.xlabel('Jarak (m)')\r\n",
        "plt.ylabel('Path Loss (dB)')\r\n",
        "plt.show()"
      ],
      "execution_count": 28,
      "outputs": [
        {
          "output_type": "display_data",
          "data": {
            "image/png": "[encoded data removed]",
            "text/plain": [
              "<Figure size 432x288 with 1 Axes>"
            ]
          },
          "metadata": {
            "tags": [],
            "needs_background": "light"
          }
        }
      ]
    },
    {
      "cell_type": "code",
      "metadata": {
        "id": "tl3ftbdJgSnj"
      },
      "source": [
        "d_sort=d[np.argsort(d)]\r\n",
        "Urban_sort1=LpUrban[np.argsort(d)]\r\n",
        "Open_sort2=LpOpen[np.argsort(d)]\r\n",
        "Suburban_sort3=LpSuburban[np.argsort(d)]"
      ],
      "execution_count": 29,
      "outputs": []
    },
    {
      "cell_type": "code",
      "metadata": {
        "id": "Q2IF_TUjgW5X",
        "colab": {
          "base_uri": "https://localhost:8080/",
          "height": 295
        },
        "outputId": "5ef054ce-d78a-457f-ef2d-93b51937859e"
      },
      "source": [
        "plt.figure()\r\n",
        "plt.title('FREKUENSI 1800MHz (URBAN, OPEN, SUBURBAN)')\r\n",
        "plt.plot(d_sort,Urban_sort1, label='Urban')\r\n",
        "plt.plot(d_sort,Open_sort2, label=\"Open\")\r\n",
        "plt.plot(d_sort,Suburban_sort3, label=\"Suburban\")\r\n",
        "plt.legend()\r\n",
        "plt.xlabel('Jarak (m)')\r\n",
        "plt.ylabel('Path Loss (dB)')\r\n",
        "plt.show()"
      ],
      "execution_count": 30,
      "outputs": [
        {
          "output_type": "display_data",
          "data": {
            "image/png": "[encoded data removed]",
            "text/plain": [
              "<Figure size 432x288 with 1 Axes>"
            ]
          },
          "metadata": {
            "tags": [],
            "needs_background": "light"
          }
        }
      ]
    },
    {
      "cell_type": "code",
      "metadata": {
        "id": "OyoRf4S5L0Ky"
      },
      "source": [
        "def cos(frek,tipe,ht,hr,d):\r\n",
        "    if frek in range(150,1501):\r\n",
        "        Ca=69.55\r\n",
        "        Cb=26.16\r\n",
        "    elif frek in range(1501,2001):\r\n",
        "        Ca=46.3\r\n",
        "        Cb=33.9\r\n",
        "    \r\n",
        "    if tipe=='urban' :\r\n",
        "        Cm=0\r\n",
        "    elif tipe=='suburban' :\r\n",
        "        Cm= -2*((np.log10((frek/28)**2))-5.4)\r\n",
        "    elif tipe=='open' :\r\n",
        "        Cm= -4.78*(np.log10(frek))+18.33*(np.log10(frek))-40.94\r\n",
        "    else :\r\n",
        "        Cm='tipe salah'\r\n",
        "    \r\n",
        "    ahr = (1.1*np.log10(frek)-0.7)*hr-(1.56*np.log10(frek)-1.8)\r\n",
        "    Lp = Ca+(Cb*np.log10(frek))-(13.83*np.log(ht))-ahr+((44.9-6.55*np.log10(ht))*np.log10(d))-Cm\r\n",
        "    \r\n",
        "    return Lp"
      ],
      "execution_count": 31,
      "outputs": []
    },
    {
      "cell_type": "code",
      "metadata": {
        "id": "RcT9svGRL5R5"
      },
      "source": [
        "f1=700 #MHz\r\n",
        "f2=900 #MHz\r\n",
        "f3=1800 #MHz\r\n",
        "loc='urban'\r\n",
        "tower=80 #m\r\n",
        "user=1.5 #m\r\n",
        "dmin=200 #m\r\n",
        "dmax=700 #m\r\n",
        "N=200 #titik\r\n",
        "d=np.random.randint(dmin,dmax,N)"
      ],
      "execution_count": 32,
      "outputs": []
    },
    {
      "cell_type": "code",
      "metadata": {
        "colab": {
          "base_uri": "https://localhost:8080/"
        },
        "id": "L2nFmMExL8lz",
        "outputId": "6166bf76-b993-49fc-ffe5-1d39458bcfed"
      },
      "source": [
        "print(d)"
      ],
      "execution_count": 33,
      "outputs": [
        {
          "output_type": "stream",
          "text": [
            "[654 617 616 477 587 432 648 506 478 507 384 498 270 683 271 557 475 375\n",
            " 652 630 243 393 421 554 233 448 645 529 449 262 645 329 469 669 266 619\n",
            " 278 659 315 227 510 314 358 288 654 234 682 671 272 441 633 496 238 550\n",
            " 524 260 611 676 638 410 502 245 362 515 656 661 526 477 333 679 290 275\n",
            " 370 499 414 591 591 429 516 428 284 294 479 516 640 627 337 295 624 246\n",
            " 603 614 483 666 443 375 684 389 568 686 228 552 480 565 501 600 302 480\n",
            " 586 689 448 458 642 205 651 203 294 345 438 343 598 449 244 295 695 219\n",
            " 455 419 326 388 527 516 449 411 406 333 548 579 221 336 354 646 228 321\n",
            " 669 503 671 378 453 238 376 671 274 434 222 453 634 247 300 541 665 603\n",
            " 467 695 589 277 205 694 599 664 455 429 598 254 273 632 241 491 570 433\n",
            " 377 321 463 268 202 318 225 470 211 364 567 268 495 427 377 573 382 545\n",
            " 321 528]\n"
          ],
          "name": "stdout"
        }
      ]
    },
    {
      "cell_type": "code",
      "metadata": {
        "id": "KKzZWkurL_lz"
      },
      "source": [
        "LpUrban700=cos(f1,loc,tower,user,d)\r\n",
        "LpUrban900=cos(f2,loc,tower,user,d)\r\n",
        "LpUrban1800=cos(f3,loc,tower,user,d)"
      ],
      "execution_count": 34,
      "outputs": []
    },
    {
      "cell_type": "code",
      "metadata": {
        "colab": {
          "base_uri": "https://localhost:8080/"
        },
        "id": "VGIX3CKXMDA6",
        "outputId": "3f446a31-5899-4385-9c10-04e81b49aa41"
      },
      "source": [
        "print(LpUrban700, LpUrban900, LpUrban1800)"
      ],
      "execution_count": 35,
      "outputs": [
        {
          "output_type": "stream",
          "text": [
            "[173.69086772 172.87050881 172.84766008 169.24537989 172.16839151\n",
            " 167.8495619  173.56103973 170.07675215 169.27487988 170.10456309\n",
            " 166.19044208 169.85226552 161.22897913 174.30203447 161.28105401\n",
            " 171.4294334  169.18619393 165.85636545 173.64772454 173.16421806\n",
            " 159.74484588 166.51677878 167.48623903 171.35335993 159.15290006\n",
            " 168.36184517 173.49567424 170.70291023 168.39325263 160.80530095\n",
            " 173.49567424 164.01292384 169.00712918 174.01029723 161.01873288\n",
            " 172.91609537 161.64028536 173.79815109 163.40038223 158.78541216\n",
            " 170.18766798 163.35559288 165.20286208 162.13808407 173.69086772\n",
            " 159.21322666 174.28139529 174.05234573 161.33293708 168.14001008\n",
            " 173.23113618 169.79558038 159.45198216 171.2512853  170.56913679\n",
            " 160.69735991 172.73285718 174.1569211  173.34196474 167.1132964\n",
            " 169.96495602 159.86030749 165.35937744 170.32509577 173.73387917\n",
            " 173.84083669 170.62279871 169.24537989 164.18315235 174.21929568\n",
            " 162.23556707 161.48744946 165.6672856  169.88052278 167.25005706\n",
            " 172.26405393 172.26405393 167.75139957 170.35242117 167.71852619\n",
            " 161.94107054 162.42853225 169.30431821 170.35242117 173.38605316\n",
            " 173.09698053 164.35134823 162.47636332 173.0294205  159.91768532\n",
            " 172.54720392 172.80185113 169.42146015 173.94698819 168.20374882\n",
            " 165.85636545 174.32264345 166.37267279 171.70490638 174.36377118\n",
            " 158.84732978 171.30241507 169.33369515 171.63031007 169.9368678\n",
            " 172.47694822 162.80670899 169.33369515 172.14437405 174.4252385\n",
            " 168.36184517 168.67281227 173.43000402 157.34946056 173.6261033\n",
            " 157.21135909 162.42853225 164.6818323  168.04385791 164.59993534\n",
            " 172.42991566 168.39325263 159.80269499 162.47636332 174.54737427\n",
            " 158.28002207 168.58024083 167.41916158 163.8838887  166.33641476\n",
            " 170.64955321 170.35242117 168.39325263 167.14761125 166.97519492\n",
            " 164.18315235 171.19996926 171.97509533 158.40807966 164.30948716\n",
            " 165.04458808 173.51749646 158.84732978 163.66616818 174.01029723\n",
            " 169.99298835 174.05234573 165.96860698 168.51818682 159.45198216\n",
            " 165.89387876 174.05234573 161.43613342 167.91462547 158.47167452\n",
            " 168.51818682 173.25337176 159.97483038 162.71311238 171.01887647\n",
            " 173.92582179 172.54720392 168.94693149 174.54737427 172.21630393\n",
            " 161.58952409 157.34946056 174.52709171 172.45345157 173.90462353\n",
            " 168.58024083 167.75139957 172.42991566 160.36848339 161.38462975\n",
            " 173.20886545 159.62843003 169.65286146 171.75441869 167.88213125\n",
            " 165.93129243 163.66616818 168.82575881 161.12424826 157.14179728\n",
            " 163.53390206 158.66075437 169.03713183 157.75582252 165.43698776\n",
            " 171.68008481 161.12424826 169.76715204 167.68557591 165.93129243\n",
            " 171.82836237 166.11688454 171.12264296 163.66616818 170.67625698] [176.53626404 175.71590512 175.6930564  172.09077621 175.01378782\n",
            " 170.69495822 176.40643605 172.92214846 172.1202762  172.94995941\n",
            " 169.0358384  172.69766184 164.07437545 177.14743079 164.12645032\n",
            " 174.27482972 172.03159025 168.70176177 176.49312086 176.00961438\n",
            " 162.5902422  169.3621751  170.33163535 174.19875625 161.99829638\n",
            " 171.20724149 176.34107056 173.54830655 171.23864895 163.65069727\n",
            " 176.34107056 166.85832016 171.8525255  176.85569354 163.8641292\n",
            " 175.76149169 164.48568168 176.6435474  166.24577854 161.63080847\n",
            " 173.03306429 166.2009892  168.0482584  164.98348039 176.53626404\n",
            " 162.05862297 177.12679161 176.89774205 164.17833339 170.9854064\n",
            " 176.0765325  172.6409767  162.29737848 174.09668161 173.41453311\n",
            " 163.54275622 175.5782535  177.00231742 176.18736106 169.95869272\n",
            " 172.81035234 162.70570381 168.20477376 173.17049209 176.57927549\n",
            " 176.686233   173.46819503 172.09077621 167.02854867 177.064692\n",
            " 165.08096339 164.33284578 168.51268192 172.7259191  170.09545338\n",
            " 175.10945025 175.10945025 170.59679589 173.19781749 170.5639225\n",
            " 164.78646686 165.27392857 172.14971453 173.19781749 176.23144948\n",
            " 175.94237684 167.19674455 165.32175964 175.87481682 162.76308164\n",
            " 175.39260023 175.64724745 172.26685647 176.79238451 171.04914514\n",
            " 168.70176177 177.16803977 169.21806911 174.5503027  177.2091675\n",
            " 161.6927261  174.14781139 172.17909147 174.47570639 172.78226412\n",
            " 175.32234454 165.65210531 172.17909147 174.98977036 177.27063481\n",
            " 171.20724149 171.51820859 176.27540033 160.19485688 176.47149961\n",
            " 160.0567554  165.27392857 167.52722862 170.88925423 167.44533166\n",
            " 175.27531198 171.23864895 162.6480913  165.32175964 177.39277059\n",
            " 161.12541839 171.42563715 170.2645579  166.72928502 169.18181108\n",
            " 173.49494953 173.19781749 171.23864895 169.99300756 169.82059124\n",
            " 167.02854867 174.04536557 174.82049165 161.25347598 167.15488348\n",
            " 167.8899844  176.36289277 161.6927261  166.5115645  176.85569354\n",
            " 172.83838466 176.89774205 168.8140033  171.36358314 162.29737848\n",
            " 168.73927508 176.89774205 164.28152974 170.76002179 161.31707084\n",
            " 171.36358314 176.09876808 162.8202267  165.5585087  173.86427279\n",
            " 176.7712181  175.39260023 171.79232781 177.39277059 175.06170024\n",
            " 164.43492041 160.19485688 177.37248802 175.29884789 176.75001985\n",
            " 171.42563715 170.59679589 175.27531198 163.21387971 164.23002607\n",
            " 176.05426176 162.47382635 172.49825778 174.59981501 170.72752757\n",
            " 168.77668874 166.5115645  171.67115513 163.96964458 159.9871936\n",
            " 166.37929838 161.50615069 171.88252815 160.60121883 168.28238408\n",
            " 174.52548113 163.96964458 172.61254836 170.53097223 168.77668874\n",
            " 174.67375868 168.96228086 173.96803928 166.5115645  173.5216533 ] [186.32992522 185.5095663  185.48671757 181.88443739 184.807449\n",
            " 180.48861939 186.20009722 182.71580964 181.91393737 182.74362058\n",
            " 178.82949958 182.49132302 173.86803663 186.94109196 173.9201115\n",
            " 184.0684909  181.82525143 178.49542295 186.28678204 185.80327556\n",
            " 172.38390337 179.15583628 180.12529653 183.99241742 171.79195756\n",
            " 181.00090267 186.13473173 183.34196773 181.03231012 173.44435845\n",
            " 186.13473173 176.65198134 181.64618668 186.64935472 173.65779037\n",
            " 185.55515287 174.27934286 186.43720858 176.03943972 171.42446965\n",
            " 182.82672547 175.99465037 177.84191957 174.77714157 186.32992522\n",
            " 171.85228415 186.92045278 186.69140322 173.97199457 180.77906757\n",
            " 185.87019368 182.43463788 172.09103965 183.89034279 183.20819429\n",
            " 173.3364174  185.37191467 186.79597859 185.98102224 179.75235389\n",
            " 182.60401352 172.49936498 177.99843493 182.96415327 186.37293666\n",
            " 186.47989418 183.26185621 181.88443739 176.82220984 186.85835318\n",
            " 174.87462457 174.12650695 178.30634309 182.51958027 179.88911456\n",
            " 184.90311142 184.90311142 180.39045706 182.99147866 180.35758368\n",
            " 174.58012804 175.06758974 181.94337571 182.99147866 186.02511066\n",
            " 185.73603802 176.99040572 175.11542082 185.668478   172.55674281\n",
            " 185.18626141 185.44090863 182.06051765 186.58604568 180.84280631\n",
            " 178.49542295 186.96170094 179.01173029 184.34396388 187.00282867\n",
            " 171.48638728 183.94147257 181.97275265 184.26936756 182.5759253\n",
            " 185.11600572 175.44576648 181.97275265 184.78343154 187.06429599\n",
            " 181.00090267 181.31186977 186.06906151 169.98851806 186.26516079\n",
            " 169.85041658 175.06758974 177.3208898  180.68291541 177.23899284\n",
            " 185.06897316 181.03231012 172.44175248 175.11542082 187.18643176\n",
            " 170.91907957 181.21929832 180.05821908 176.5229462  178.97547226\n",
            " 183.2886107  182.99147866 181.03231012 179.78666874 179.61425242\n",
            " 176.82220984 183.83902675 184.61415283 171.04713715 176.94854466\n",
            " 177.68364557 186.15655395 171.48638728 176.30522567 186.64935472\n",
            " 182.63204584 186.69140322 178.60766448 181.15724431 172.09103965\n",
            " 178.53293625 186.69140322 174.07519091 180.55368296 171.11073201\n",
            " 181.15724431 185.89242926 172.61388787 175.35216988 183.65793397\n",
            " 186.56487928 185.18626141 181.58598899 187.18643176 184.85536142\n",
            " 174.22858158 169.98851806 187.1661492  185.09250907 186.54368103\n",
            " 181.21929832 180.39045706 185.06897316 173.00754089 174.02368724\n",
            " 185.84792294 172.26748753 182.29191895 184.39347619 180.52118874\n",
            " 178.57034992 176.30522567 181.4648163  173.76330575 169.78085477\n",
            " 176.17295956 171.29981187 181.67618932 170.39488001 178.07604525\n",
            " 184.31914231 173.76330575 182.40620954 180.3246334  178.57034992\n",
            " 184.46741986 178.75594203 183.76170046 176.30522567 183.31531448]\n"
          ],
          "name": "stdout"
        }
      ]
    },
    {
      "cell_type": "code",
      "metadata": {
        "colab": {
          "base_uri": "https://localhost:8080/",
          "height": 279
        },
        "id": "8TPfXcF-MGVI",
        "outputId": "61b9baf6-54de-46e4-b9d7-309879161833"
      },
      "source": [
        "plt.figure()\r\n",
        "plt.plot(d,LpUrban700)\r\n",
        "plt.plot(d,LpUrban900)\r\n",
        "plt.plot(d,LpUrban1800)\r\n",
        "plt.xlabel('Jarak (m)')\r\n",
        "plt.ylabel('Path Loss (dB)')\r\n",
        "plt.show()"
      ],
      "execution_count": 36,
      "outputs": [
        {
          "output_type": "display_data",
          "data": {
            "image/png": "[encoded data removed]",
            "text/plain": [
              "<Figure size 432x288 with 1 Axes>"
            ]
          },
          "metadata": {
            "tags": [],
            "needs_background": "light"
          }
        }
      ]
    },
    {
      "cell_type": "code",
      "metadata": {
        "id": "hHvK93XwMKLp"
      },
      "source": [
        "d_sort=d[np.argsort(d)]\r\n",
        "Urban_sort1=LpUrban700[np.argsort(d)]\r\n",
        "Urban_sort2=LpUrban900[np.argsort(d)]\r\n",
        "Urban_sort3=LpUrban1800[np.argsort(d)]"
      ],
      "execution_count": 37,
      "outputs": []
    },
    {
      "cell_type": "code",
      "metadata": {
        "colab": {
          "base_uri": "https://localhost:8080/",
          "height": 295
        },
        "id": "f_mdsCduMRGP",
        "outputId": "867f4316-b320-4532-c014-035e087fd0f5"
      },
      "source": [
        "plt.figure()\r\n",
        "plt.plot(d_sort,Urban_sort1, label='700MHz')\r\n",
        "plt.plot(d_sort,Urban_sort2, label='900MHz')\r\n",
        "plt.plot(d_sort,Urban_sort3, label='1800MHz')\r\n",
        "plt.legend()\r\n",
        "plt.title('MODEL URBAN (700MHz, 900MHz, 1800MHz)')\r\n",
        "plt.xlabel('Jarak (m)')\r\n",
        "plt.ylabel('Path Loss (dB)')\r\n",
        "plt.show()"
      ],
      "execution_count": 38,
      "outputs": [
        {
          "output_type": "display_data",
          "data": {
            "image/png": "[encoded data removed]",
            "text/plain": [
              "<Figure size 432x288 with 1 Axes>"
            ]
          },
          "metadata": {
            "tags": [],
            "needs_background": "light"
          }
        }
      ]
    },
    {
      "cell_type": "code",
      "metadata": {
        "id": "SlbeZYuTMWdG"
      },
      "source": [
        ""
      ],
      "execution_count": 38,
      "outputs": []
    }
  ]
}